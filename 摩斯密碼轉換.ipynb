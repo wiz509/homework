{
 "cells": [
  {
   "cell_type": "code",
   "execution_count": 1,
   "metadata": {},
   "outputs": [],
   "source": [
    "%matplotlib inline\n",
    "import numpy as np\n",
    "import matplotlib.pyplot as plt\n",
    "import pandas as pd"
   ]
  },
  {
   "cell_type": "code",
   "execution_count": 12,
   "metadata": {},
   "outputs": [],
   "source": [
    "letter={\"a\":\"．-\",\"b\":\"-．．．\",\"c\":\"-．-．\",\"d\":\"-．．\",\"e\":\"．\",\"f\":\"．．-．\",\"g\":\"--．\",\"h\":\"．．．．\",\"i\":\"．．\",\"j\":\"．---\",\"k\":\"-．-\",\"l\":\"．-．．\",\"m\":\"--\",\"n\":\"-．\",\"o\":\"---\",\"p\":\"．--．\",\"q\":\"--．-\",\"r\":\"．-．\",\"s\":\"．．．\",\"t\":\"-\",\"u\":\"．．-\",\"v\":\"．．．-\",\"w\":\"．--\",\"x\":\"-．．-\",\"y\":\"-．--\",\"z\":\"--．．\",\"1\":\"．----\",\"2\":\"．．---\",\"3\":\"．．．--\",\"4\":\"．．．．-\",\"5\":\"．．．．．\",\"6\":\"-．．．．\",\"7\":\"--．．．\",\"8\":\"---．．\",\"9\":\"----．\",\"0\":\"-----\"}\n"
   ]
  },
  {
   "cell_type": "code",
   "execution_count": 23,
   "metadata": {},
   "outputs": [
    {
     "name": "stdout",
     "output_type": "stream",
     "text": [
      "要輸入幾個字\n",
      ">>7\n",
      "請輸入\n",
      "love123\n",
      "．-．．\n",
      "---\n",
      "．．．-\n",
      "．\n",
      "．----\n",
      "．．---\n",
      "．．．--\n"
     ]
    }
   ],
   "source": [
    "print(\"要輸入幾個字\")\n",
    "n=input(\">>\")\n",
    "print(\"請輸入\")\n",
    "d=list(input())\n",
    "for i in range(0,int(n)):\n",
    "    print(letter[d[i]])"
   ]
  },
  {
   "cell_type": "code",
   "execution_count": 24,
   "metadata": {},
   "outputs": [
    {
     "name": "stdout",
     "output_type": "stream",
     "text": [
      "The following commands were written to file `mos.py`:\n",
      "get_ipython().run_line_magic('matplotlib', 'inline')\n",
      "import numpy as np\n",
      "import matplotlib.pyplot as plt\n",
      "import pandas as pd\n",
      "letter={\"a\":\"．-\",\"b\":\"-．．．\",\"c\":\"-．-．\",\"d\":\"-．．\",\"e\":\"．\",\"f\":\"．．-．\",\"g\":\"--．\",\"h\":\"．．．．\",\"i\":\"．．\",\"j\":\"．---\",\"k\":\"-．-\",\"l\":\"．-．．\",\"m\":\"--\",\"n\":\"-．\",\"o\":\"---\",\"p\":\"．--．\",\"q\":\"--．-\",\"r\":\"．-．\",\"s\":\"．．．\",\"t\":\"-\",\"u\":\"．．-\",\"v\":\"．．．-\",\"w\":\"．--\",\"x\":\"-．．-\",\"y\":\"-．--\",\"z\":\"--．．\",\"1\":\"．----\",\"2\":\"．．---\",\"3\":\"．．．--\",\"4\":\"．．．．-\",\"5\":\"．．．．．\",\"6\":\"-．．．．\",\"7\":\"--．．．\",\"8\":\"---．．\",\"9\":\"----．\",\"0\":\"-----\"}\n",
      "print(\"要輸入幾個字\")\n",
      "n=input(\">>\")\n",
      "print(\"請輸入\")\n",
      "d=list(input())\n",
      "for i in range(0,int(n)):\n",
      "    print(letter[d[i]])\n"
     ]
    }
   ],
   "source": [
    "%save \"mos.py\" 1 12 23"
   ]
  },
  {
   "cell_type": "code",
   "execution_count": null,
   "metadata": {},
   "outputs": [],
   "source": []
  }
 ],
 "metadata": {
  "kernelspec": {
   "display_name": "Python 3",
   "language": "python",
   "name": "python3"
  },
  "language_info": {
   "codemirror_mode": {
    "name": "ipython",
    "version": 3
   },
   "file_extension": ".py",
   "mimetype": "text/x-python",
   "name": "python",
   "nbconvert_exporter": "python",
   "pygments_lexer": "ipython3",
   "version": "3.7.3"
  }
 },
 "nbformat": 4,
 "nbformat_minor": 2
}
