{
 "cells": [
  {
   "cell_type": "code",
   "execution_count": 2,
   "metadata": {},
   "outputs": [],
   "source": [
    "%matplotlib inline\n",
    "import numpy as np\n",
    "import pandas as pd\n",
    "import matplotlib.pyplot as plt"
   ]
  },
  {
   "cell_type": "code",
   "execution_count": 3,
   "metadata": {},
   "outputs": [],
   "source": [
    "import random\n"
   ]
  },
  {
   "cell_type": "code",
   "execution_count": 8,
   "metadata": {},
   "outputs": [
    {
     "name": "stdout",
     "output_type": "stream",
     "text": [
      "這個遊戲會隨機生成4到30的一個數字，最少減一最多減三，成功最後減為零的為贏家\n",
      "了解嗎?了解\n",
      "有16個\n",
      "你先拿\n",
      ">>2\n",
      "剩14個\n",
      "電腦拿2個\n",
      "剩12個\n",
      ">>3\n",
      "剩9個\n",
      "電腦拿1個\n",
      "剩8個\n",
      ">>1\n",
      "剩7個\n",
      "電腦拿3個\n",
      "剩4個\n",
      ">>2\n",
      "剩2個\n",
      "電腦拿2個\n",
      "剩0個\n",
      "你輸了\n"
     ]
    }
   ],
   "source": [
    "b = random.randint(4,30)\n",
    "print(\"這個遊戲會隨機生成4到30的一個數字，最少減一最多減三，成功最後減為零的為贏家\")\n",
    "input(\"了解嗎?\")\n",
    "print((\"有%d個\")%(b))\n",
    "if b%4 == 0 :\n",
    "    print(\"你先拿\")\n",
    "    while b != 0 :\n",
    "        a=input(\">>\")\n",
    "        b=b-int(a)\n",
    "        print(f\"剩{int(b)}個\")\n",
    "        c=b%4\n",
    "        print(f\"電腦拿{int(c)}個\")\n",
    "        b=b-c\n",
    "        print(f\"剩{int(b)}個\")\n",
    "else:\n",
    "    print(\"電腦先拿\")\n",
    "    while b != 0 :\n",
    "        d=b%4\n",
    "        print(f\"電腦拿{int(d)}個\")\n",
    "        b=b-d\n",
    "        print(f\"剩{int(b)}個\")\n",
    "        if b == 0 :\n",
    "            break\n",
    "        a=input(\">>\")\n",
    "        b=b-int(a)\n",
    "        print(f\"剩{int(b)}個\")\n",
    "print(\"你輸了\")      \n",
    "    "
   ]
  },
  {
   "cell_type": "code",
   "execution_count": 9,
   "metadata": {},
   "outputs": [
    {
     "name": "stdout",
     "output_type": "stream",
     "text": [
      "File `zero.py` exists. Overwrite (y/[N])?  y\n",
      "The following commands were written to file `zero.py`:\n",
      "get_ipython().run_line_magic('matplotlib', 'inline')\n",
      "import numpy as np\n",
      "import pandas as pd\n",
      "import matplotlib.pyplot as plt\n",
      "import random\n",
      "b = random.randint(4,30)\n",
      "print(\"這個遊戲會隨機生成4到30的一個數字，最少減一最多減三，成功最後減為零的為贏家\")\n",
      "input(\"了解嗎?\")\n",
      "print((\"有%d個\")%(b))\n",
      "if b%4 == 0 :\n",
      "    print(\"你先拿\")\n",
      "    while b != 0 :\n",
      "        a=input(\">>\")\n",
      "        b=b-int(a)\n",
      "        print(f\"剩{int(b)}個\")\n",
      "        c=b%4\n",
      "        print(f\"電腦拿{int(c)}個\")\n",
      "        b=b-c\n",
      "        print(f\"剩{int(b)}個\")\n",
      "else:\n",
      "    print(\"電腦先拿\")\n",
      "    while b != 0 :\n",
      "        d=b%4\n",
      "        print(f\"電腦拿{int(d)}個\")\n",
      "        b=b-d\n",
      "        print(f\"剩{int(b)}個\")\n",
      "        if b == 0 :\n",
      "            break\n",
      "        a=input(\">>\")\n",
      "        b=b-int(a)\n",
      "        print(f\"剩{int(b)}個\")\n",
      "print(\"你輸了\")      \n",
      "    \n"
     ]
    }
   ],
   "source": [
    "%save \"zero.py\" 2 3 8"
   ]
  },
  {
   "cell_type": "code",
   "execution_count": null,
   "metadata": {},
   "outputs": [],
   "source": []
  }
 ],
 "metadata": {
  "kernelspec": {
   "display_name": "Python 3",
   "language": "python",
   "name": "python3"
  },
  "language_info": {
   "codemirror_mode": {
    "name": "ipython",
    "version": 3
   },
   "file_extension": ".py",
   "mimetype": "text/x-python",
   "name": "python",
   "nbconvert_exporter": "python",
   "pygments_lexer": "ipython3",
   "version": "3.7.3"
  }
 },
 "nbformat": 4,
 "nbformat_minor": 2
}
