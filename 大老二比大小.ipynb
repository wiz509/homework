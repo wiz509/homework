{
 "cells": [
  {
   "cell_type": "code",
   "execution_count": 4,
   "metadata": {},
   "outputs": [],
   "source": [
    "%matplotlib inline\n",
    "import numpy as np\n",
    "import matplotlib.pyplot as plt\n",
    "import pandas as pd\n",
    "import random"
   ]
  },
  {
   "cell_type": "code",
   "execution_count": 17,
   "metadata": {},
   "outputs": [],
   "source": [
    "class Card:\n",
    "    SUITS = [\"黑桃\",\"愛心\",\"菱形\",\"梅花\"]\n",
    "    RANKS = ['2', '3', '4', '5', '6', '7', '8', '9', '10', 'J', 'Q', 'K' , 'A']\n",
    "    def __init__(self,s,r):\n",
    "        self.suit = s\n",
    "        self.rank = r\n",
    "    def __repr__(self):\n",
    "        thecard = self.SUITS[self.suit] + self.RANKS[self.rank]\n",
    "        return thecard"
   ]
  },
  {
   "cell_type": "code",
   "execution_count": 20,
   "metadata": {},
   "outputs": [
    {
     "name": "stdout",
     "output_type": "stream",
     "text": [
      "抽牌比大小?恩\n",
      "梅花J\n",
      "電腦抽到 菱形4\n",
      "你贏了\n"
     ]
    }
   ],
   "source": [
    "a=random.randint(0,3)\n",
    "b=random.randint(0,12)\n",
    "Card(a,b)\n",
    "input(\"抽牌比大小?\")\n",
    "print(Card(a,b))\n",
    "c=random.randint(0,3)\n",
    "d=random.randint(0,12)\n",
    "print(\"電腦抽到\",Card(c,d))\n",
    "if b == d :\n",
    "    if d > c:\n",
    "        print(\"你贏了\")\n",
    "    elif c > d:\n",
    "        print(\"你輸了\")\n",
    "    else:\n",
    "        print(\"平手\")\n",
    "if b > d :\n",
    "    print(\"你贏了\")\n",
    "if d > b:\n",
    "    print(\"你輸了\")"
   ]
  },
  {
   "cell_type": "code",
   "execution_count": null,
   "metadata": {},
   "outputs": [],
   "source": []
  }
 ],
 "metadata": {
  "kernelspec": {
   "display_name": "Python 3",
   "language": "python",
   "name": "python3"
  },
  "language_info": {
   "codemirror_mode": {
    "name": "ipython",
    "version": 3
   },
   "file_extension": ".py",
   "mimetype": "text/x-python",
   "name": "python",
   "nbconvert_exporter": "python",
   "pygments_lexer": "ipython3",
   "version": "3.7.3"
  }
 },
 "nbformat": 4,
 "nbformat_minor": 2
}
