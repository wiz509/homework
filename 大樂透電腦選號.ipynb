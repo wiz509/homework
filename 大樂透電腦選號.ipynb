{
 "cells": [
  {
   "cell_type": "code",
   "execution_count": 1,
   "metadata": {},
   "outputs": [],
   "source": [
    "%matplotlib inline\n",
    "import numpy as np\n",
    "import pandas as pd\n",
    "import matplotlib.pyplot as plt"
   ]
  },
  {
   "cell_type": "code",
   "execution_count": 2,
   "metadata": {},
   "outputs": [],
   "source": [
    "import random"
   ]
  },
  {
   "cell_type": "code",
   "execution_count": 7,
   "metadata": {},
   "outputs": [],
   "source": [
    "s=list(range(1,50))"
   ]
  },
  {
   "cell_type": "code",
   "execution_count": 13,
   "metadata": {},
   "outputs": [
    {
     "name": "stdout",
     "output_type": "stream",
     "text": [
      "要買幾張電腦選號\n",
      ">>6\n",
      "[10, 3, 42, 9, 32, 20]\n",
      "[20, 17, 15, 41, 45, 11]\n",
      "[5, 12, 41, 42, 19, 9]\n",
      "[33, 3, 40, 49, 7, 34]\n",
      "[5, 12, 27, 45, 8, 6]\n",
      "[10, 44, 13, 7, 37, 45]\n"
     ]
    }
   ],
   "source": [
    "print(\"要買幾張電腦選號\")\n",
    "n=input(\">>\")\n",
    "for i in range(0,int(n)):\n",
    "    sh=random.sample(s,6)\n",
    "    print(sh)"
   ]
  },
  {
   "cell_type": "code",
   "execution_count": null,
   "metadata": {},
   "outputs": [],
   "source": []
  }
 ],
 "metadata": {
  "kernelspec": {
   "display_name": "Python 3",
   "language": "python",
   "name": "python3"
  },
  "language_info": {
   "codemirror_mode": {
    "name": "ipython",
    "version": 3
   },
   "file_extension": ".py",
   "mimetype": "text/x-python",
   "name": "python",
   "nbconvert_exporter": "python",
   "pygments_lexer": "ipython3",
   "version": "3.7.3"
  }
 },
 "nbformat": 4,
 "nbformat_minor": 2
}
