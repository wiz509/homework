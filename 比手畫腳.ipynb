{
 "cells": [
  {
   "cell_type": "code",
   "execution_count": 2,
   "metadata": {},
   "outputs": [],
   "source": [
    "import time \n",
    "import random"
   ]
  },
  {
   "cell_type": "code",
   "execution_count": 4,
   "metadata": {},
   "outputs": [],
   "source": [
    "allwords=['蘇貞昌','牛奶','母老虎','馬英九','美猴王','外星人','賽車','感冒','拉肚子','空姐','飛行員','水龍頭','鬥牛','相撲','拔河','抬槓','騎馬打仗','口試'\n",
    ",'法式接吻','理髮','馬殺雞','比手畫腳','導盲犬','打網球','協力車','抓小偷','躲迷藏','接力賽跑','兔子舞','探戈','疊羅漢','黑白猜','兩人三腳','老漢推車','斷背山','你丟我撿'\n",
    ",'啦啦隊','馬戲表演','跳火圈','橄欖球','殺價','超車','划拳','偷窺','潑冷水','碰釘子','吃閉門羹','婚禮','人體彩繪','阿魯巴','仰臥起坐','蹺蹺板','龜兔賽跑','合唱團',\n",
    "'英雄救美','落井下石','波浪舞','袋鼠','鐵達尼號','雙胞胎','腳底按摩','人工呼吸','出人頭地','圓頂方踵','斬草除根','過眼雲煙','哄堂大笑','放下屠刀立地成佛','昏天黑地',\n",
    "'飲水思源','胸懷千里','白馬王子','垂涎三尺','百折不撓','擎天憾地','海闊天空','愚公移山','才高八斗','雞飛狗跳','嘔心絞腦','萬紫千紅','張牙舞爪','一暴十寒','手不釋卷',\n",
    "'眼波如水','圓通大師','隨風轉舵','望洋興嘆','無懈可擊','花枝招展','鳶飛魚躍','一絲不苟','搔首弄姿','羊入虎口','黑白分明'\n",
    ",'三頭六臂','雨過天青','三緘其口','半斤八兩','畫餅充飢','怒髮衝冠','鳥語花香','一石二鳥','環肥燕瘦','上下其手','一波三折','有口難言','身懷六甲','十全十美呼風喚雨']\n"
   ]
  },
  {
   "cell_type": "code",
   "execution_count": 9,
   "metadata": {},
   "outputs": [
    {
     "name": "stdout",
     "output_type": "stream",
     "text": [
      "有多少組玩家\n",
      "3\n",
      "要幾道題目\n",
      "5\n",
      "要計時多少秒\n",
      "20\n",
      "1.手不釋卷\n",
      "請答題,答對請輸入y,跳過請輸入任意鍵y\n",
      "2.一波三折\n",
      "請答題,答對請輸入y,跳過請輸入任意鍵y\n",
      "3.一波三折\n",
      "請答題,答對請輸入y,跳過請輸入任意鍵n\n",
      "4.黑白分明\n",
      "請答題,答對請輸入y,跳過請輸入任意鍵123\n",
      "5.法式接吻\n",
      "請答題,答對請輸入y,跳過請輸入任意鍵 \n",
      "第1組答對數目:2\n",
      "1.相撲\n",
      "請答題,答對請輸入y,跳過請輸入任意鍵y\n",
      "2.鳶飛魚躍\n",
      "請答題,答對請輸入y,跳過請輸入任意鍵y\n",
      "3.橄欖球\n",
      "請答題,答對請輸入y,跳過請輸入任意鍵y\n",
      "時間到！遊戲結束\n",
      "第2組答對數目:2\n",
      "1.環肥燕瘦\n",
      "請答題,答對請輸入y,跳過請輸入任意鍵y\n",
      "2.蘇貞昌\n",
      "還有10秒鐘\n",
      "請答題,答對請輸入y,跳過請輸入任意鍵y\n",
      "還有10秒鐘\n",
      "3.飲水思源\n",
      "還有10秒鐘\n",
      "請答題,答對請輸入y,跳過請輸入任意鍵y\n",
      "還有10秒鐘\n",
      "4.拔河\n",
      "請答題,答對請輸入y,跳過請輸入任意鍵y\n",
      "時間到！遊戲結束\n",
      "第3組答對數目:3\n"
     ]
    }
   ],
   "source": [
    "num = int(input('有多少組玩家\\n'))\n",
    "guessword = []\n",
    "correct = []\n",
    "for i in range(0,num ):\n",
    "    guessword.append([])\n",
    "    correct.append(0)\n",
    "wordnum=int(input('要幾道題目\\n'))\n",
    "gametime=int(input('要計時多少秒\\n'))\n",
    "for i in range(0,num):\n",
    "    for k in range(0,wordnum):\n",
    "        word=random.randint(0,108)\n",
    "        guessword[i].append(allwords[word])\n",
    "for i in range(0,num):\n",
    "    start = time.time()\n",
    "    for k in range(0,wordnum):\n",
    "        print (('%d.%s')%(k+1,guessword[i][k]))\n",
    "        end = time.time()\n",
    "        sec = end-start\n",
    "        if (gametime-10<=sec<=gametime):\n",
    "            print ('還有10秒鐘')\n",
    "        flag = input('請答題,答對請輸入y,跳過請輸入任意鍵')\n",
    "        if (gametime-10<=sec<=gametime):\n",
    "            print ('還有10秒鐘')\n",
    "        if (sec>=gametime):\n",
    "            print ('時間到！遊戲結束')\n",
    "            break\n",
    "        if (flag=='y'):\n",
    "            correct[i]=correct[i]+1\n",
    "            continue\n",
    "        else:\n",
    "            continue\n",
    "    str_temp=('第%d組答對數目:%d') % (i+1,correct[i])\t\n",
    "    print (str_temp)\n"
   ]
  },
  {
   "cell_type": "code",
   "execution_count": 10,
   "metadata": {},
   "outputs": [
    {
     "name": "stdout",
     "output_type": "stream",
     "text": [
      "File `hands and feet.py` exists. Overwrite (y/[N])?  y\n",
      "The following commands were written to file `hands and feet.py`:\n",
      "import time\n",
      "import random\n",
      "allwords=['蘇貞昌','牛奶','母老虎','馬英九','美猴王','外星人','賽車','感冒','拉肚子','空姐','飛行員','水龍頭','鬥牛','相撲','拔河','抬槓','騎馬打仗','口試'\n",
      ",'法式接吻','理髮','馬殺雞','比手畫腳','導盲犬','打網球','協力車','抓小偷','躲迷藏','接力賽跑','兔子舞','探戈','疊羅漢','黑白猜','兩人三腳','老漢推車','斷背山','你丟我撿'\n",
      ",'啦啦隊','馬戲表演','跳火圈','橄欖球','殺價','超車','划拳','偷窺','潑冷水','碰釘子','吃閉門羹','婚禮','人體彩繪','阿魯巴','仰臥起坐','蹺蹺板','龜兔賽跑','合唱團',\n",
      "'英雄救美','落井下石','波浪舞','袋鼠','鐵達尼號','雙胞胎','腳底按摩','人工呼吸','出人頭地','圓頂方踵','斬草除根','過眼雲煙','哄堂大笑','放下屠刀立地成佛','昏天黑地',\n",
      "'飲水思源','胸懷千里','白馬王子','垂涎三尺','百折不撓','擎天憾地','海闊天空','愚公移山','才高八斗','雞飛狗跳','嘔心絞腦','萬紫千紅','張牙舞爪','一暴十寒','手不釋卷',\n",
      "'眼波如水','圓通大師','隨風轉舵','望洋興嘆','無懈可擊','花枝招展','鳶飛魚躍','一絲不苟','搔首弄姿','羊入虎口','黑白分明'\n",
      ",'三頭六臂','雨過天青','三緘其口','半斤八兩','畫餅充飢','怒髮衝冠','鳥語花香','一石二鳥','環肥燕瘦','上下其手','一波三折','有口難言','身懷六甲','十全十美呼風喚雨']\n",
      "num = int(input('有多少組玩家\\n'))\n",
      "guessword = []\n",
      "correct = []\n",
      "for i in range(0,num ):\n",
      "    guessword.append([])\n",
      "    correct.append(0)\n",
      "wordnum=int(input('要幾道題目\\n'))\n",
      "gametime=int(input('要計時多少秒\\n'))\n",
      "for i in range(0,num):\n",
      "    for k in range(0,wordnum):\n",
      "        word=random.randint(0,108)\n",
      "        guessword[i].append(allwords[word])\n",
      "for i in range(0,num):\n",
      "    start = time.time()\n",
      "    for k in range(0,wordnum):\n",
      "        print (('%d.%s')%(k+1,guessword[i][k]))\n",
      "        end = time.time()\n",
      "        sec = end-start\n",
      "        if (gametime-10<=sec<=gametime):\n",
      "            print ('還有10秒鐘')\n",
      "        flag = input('請答題,答對請輸入y,跳過請輸入任意鍵')\n",
      "        if (gametime-10<=sec<=gametime):\n",
      "            print ('還有10秒鐘')\n",
      "        if (sec>=gametime):\n",
      "            print ('時間到！遊戲結束')\n",
      "            break\n",
      "        if (flag=='y'):\n",
      "            correct[i]=correct[i]+1\n",
      "            continue\n",
      "        else:\n",
      "            continue\n",
      "    str_temp=('第%d組答對數目:%d') % (i+1,correct[i])\t\n",
      "    print (str_temp)\n"
     ]
    }
   ],
   "source": [
    "%save \"hands and feet\" 2 4 9"
   ]
  },
  {
   "cell_type": "code",
   "execution_count": null,
   "metadata": {},
   "outputs": [],
   "source": []
  }
 ],
 "metadata": {
  "kernelspec": {
   "display_name": "Python 3",
   "language": "python",
   "name": "python3"
  },
  "language_info": {
   "codemirror_mode": {
    "name": "ipython",
    "version": 3
   },
   "file_extension": ".py",
   "mimetype": "text/x-python",
   "name": "python",
   "nbconvert_exporter": "python",
   "pygments_lexer": "ipython3",
   "version": "3.7.3"
  }
 },
 "nbformat": 4,
 "nbformat_minor": 2
}
