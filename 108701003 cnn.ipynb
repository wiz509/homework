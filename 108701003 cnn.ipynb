{
 "cells": [
  {
   "cell_type": "code",
   "execution_count": 1,
   "metadata": {},
   "outputs": [],
   "source": [
    "%matplotlib inline\n",
    "import numpy as np\n",
    "import matplotlib.pyplot as plt\n",
    "import tensorflow as tf"
   ]
  },
  {
   "cell_type": "code",
   "execution_count": 2,
   "metadata": {},
   "outputs": [],
   "source": [
    "from tensorflow.keras.datasets import fashion_mnist\n",
    "(x_train, y_train), (x_test, y_test) = fashion_mnist.load_data()"
   ]
  },
  {
   "cell_type": "code",
   "execution_count": 3,
   "metadata": {},
   "outputs": [
    {
     "name": "stdout",
     "output_type": "stream",
     "text": [
      "Pullover\n"
     ]
    },
    {
     "data": {
      "image/png": "[encoded data removed]",
      "text/plain": [
       "<Figure size 432x288 with 1 Axes>"
      ]
     },
     "metadata": {
      "needs_background": "light"
     },
     "output_type": "display_data"
    }
   ],
   "source": [
    "n=7\n",
    "class_names = ['T-shirt/top', 'Trouser', 'Pullover', 'Dress', 'Coat',\n",
    "               'Sandal', 'Shirt', 'Sneaker', 'Bag', 'Ankle boot']\n",
    "print(class_names[y_train[n]])\n",
    "plt.imshow(x_train[n], cmap='Greys');"
   ]
  },
  {
   "cell_type": "code",
   "execution_count": 4,
   "metadata": {},
   "outputs": [],
   "source": [
    "from tensorflow.keras.utils import to_categorical"
   ]
  },
  {
   "cell_type": "code",
   "execution_count": 5,
   "metadata": {},
   "outputs": [],
   "source": [
    "y_train = to_categorical(y_train)\n",
    "y_test_ = to_categorical(y_test)"
   ]
  },
  {
   "cell_type": "code",
   "execution_count": 6,
   "metadata": {},
   "outputs": [],
   "source": [
    "x_train = x_train/255\n",
    "x_test = x_test/255"
   ]
  },
  {
   "cell_type": "code",
   "execution_count": 7,
   "metadata": {},
   "outputs": [],
   "source": [
    "x_train = x_train.reshape(60000, 28, 28, 1)\n",
    "x_test = x_test.reshape(10000, 28, 28, 1)"
   ]
  },
  {
   "cell_type": "code",
   "execution_count": 8,
   "metadata": {},
   "outputs": [],
   "source": [
    "from tensorflow.keras.models import Sequential\n",
    "from tensorflow.keras.layers import Conv2D, MaxPooling2D\n",
    "from tensorflow.keras.layers import Dense, Flatten\n",
    "from tensorflow.keras.optimizers import SGD"
   ]
  },
  {
   "cell_type": "markdown",
   "metadata": {},
   "source": [
    "### 建立CNN"
   ]
  },
  {
   "cell_type": "code",
   "execution_count": 9,
   "metadata": {},
   "outputs": [],
   "source": [
    "model = Sequential()"
   ]
  },
  {
   "cell_type": "code",
   "execution_count": 10,
   "metadata": {},
   "outputs": [],
   "source": [
    "### 第一層建立CONV2D為32\n",
    "### 第二層建立64\n",
    "### 第三層是128"
   ]
  },
  {
   "cell_type": "code",
   "execution_count": 11,
   "metadata": {},
   "outputs": [],
   "source": [
    "model.add(Conv2D(32, (3,3), padding='same', input_shape=(28,28,1), activation = 'relu'))"
   ]
  },
  {
   "cell_type": "code",
   "execution_count": 12,
   "metadata": {},
   "outputs": [],
   "source": [
    "model.add(MaxPooling2D(pool_size=(2,2)))"
   ]
  },
  {
   "cell_type": "code",
   "execution_count": 13,
   "metadata": {},
   "outputs": [],
   "source": [
    "model.add(Conv2D(64, (3,3), padding='same', activation = 'relu'))"
   ]
  },
  {
   "cell_type": "code",
   "execution_count": 14,
   "metadata": {},
   "outputs": [],
   "source": [
    "model.add(MaxPooling2D(pool_size=(2,2)))"
   ]
  },
  {
   "cell_type": "code",
   "execution_count": 15,
   "metadata": {},
   "outputs": [],
   "source": [
    "model.add(Conv2D(128, (3,3), padding='same', activation = 'relu'))"
   ]
  },
  {
   "cell_type": "code",
   "execution_count": 16,
   "metadata": {},
   "outputs": [],
   "source": [
    "model.add(MaxPooling2D(pool_size=(2,2)))"
   ]
  },
  {
   "cell_type": "code",
   "execution_count": 17,
   "metadata": {},
   "outputs": [],
   "source": [
    "model.add(Flatten())"
   ]
  },
  {
   "cell_type": "code",
   "execution_count": 18,
   "metadata": {},
   "outputs": [],
   "source": [
    "model.add(Dense(30, activation='relu'))"
   ]
  },
  {
   "cell_type": "code",
   "execution_count": 19,
   "metadata": {},
   "outputs": [],
   "source": [
    "model.add(Dense(10, activation='softmax'))"
   ]
  },
  {
   "cell_type": "code",
   "execution_count": 20,
   "metadata": {},
   "outputs": [],
   "source": [
    "model.compile(loss='mse', optimizer=SGD(lr=0.05), metrics=['accuracy'])"
   ]
  },
  {
   "cell_type": "code",
   "execution_count": 21,
   "metadata": {},
   "outputs": [
    {
     "name": "stdout",
     "output_type": "stream",
     "text": [
      "Model: \"sequential\"\n",
      "_________________________________________________________________\n",
      "Layer (type)                 Output Shape              Param #   \n",
      "=================================================================\n",
      "conv2d (Conv2D)              (None, 28, 28, 32)        320       \n",
      "_________________________________________________________________\n",
      "max_pooling2d (MaxPooling2D) (None, 14, 14, 32)        0         \n",
      "_________________________________________________________________\n",
      "conv2d_1 (Conv2D)            (None, 14, 14, 64)        18496     \n",
      "_________________________________________________________________\n",
      "max_pooling2d_1 (MaxPooling2 (None, 7, 7, 64)          0         \n",
      "_________________________________________________________________\n",
      "conv2d_2 (Conv2D)            (None, 7, 7, 128)         73856     \n",
      "_________________________________________________________________\n",
      "max_pooling2d_2 (MaxPooling2 (None, 3, 3, 128)         0         \n",
      "_________________________________________________________________\n",
      "flatten (Flatten)            (None, 1152)              0         \n",
      "_________________________________________________________________\n",
      "dense (Dense)                (None, 30)                34590     \n",
      "_________________________________________________________________\n",
      "dense_1 (Dense)              (None, 10)                310       \n",
      "=================================================================\n",
      "Total params: 127,572\n",
      "Trainable params: 127,572\n",
      "Non-trainable params: 0\n",
      "_________________________________________________________________\n"
     ]
    }
   ],
   "source": [
    "model.summary()"
   ]
  },
  {
   "cell_type": "code",
   "execution_count": 22,
   "metadata": {},
   "outputs": [
    {
     "name": "stdout",
     "output_type": "stream",
     "text": [
      "Train on 60000 samples\n",
      "Epoch 1/15\n",
      "60000/60000 [==============================] - 60s 1ms/sample - loss: 0.0897 - accuracy: 0.1275\n",
      "Epoch 2/15\n",
      "60000/60000 [==============================] - 60s 1ms/sample - loss: 0.0889 - accuracy: 0.2723\n",
      "Epoch 3/15\n",
      "60000/60000 [==============================] - 60s 999us/sample - loss: 0.0870 - accuracy: 0.3619\n",
      "Epoch 4/15\n",
      "60000/60000 [==============================] - 60s 1ms/sample - loss: 0.0740 - accuracy: 0.5279\n",
      "Epoch 5/15\n",
      "60000/60000 [==============================] - 60s 1ms/sample - loss: 0.0484 - accuracy: 0.6706\n",
      "Epoch 6/15\n",
      "60000/60000 [==============================] - 60s 998us/sample - loss: 0.0417 - accuracy: 0.7179\n",
      "Epoch 7/15\n",
      "60000/60000 [==============================] - 58s 973us/sample - loss: 0.0389 - accuracy: 0.7372\n",
      "Epoch 8/15\n",
      "60000/60000 [==============================] - 59s 979us/sample - loss: 0.0372 - accuracy: 0.7485\n",
      "Epoch 9/15\n",
      "60000/60000 [==============================] - 60s 1ms/sample - loss: 0.0357 - accuracy: 0.7604\n",
      "Epoch 10/15\n",
      "60000/60000 [==============================] - 60s 1ms/sample - loss: 0.0347 - accuracy: 0.7672\n",
      "Epoch 11/15\n",
      "60000/60000 [==============================] - 60s 1ms/sample - loss: 0.0338 - accuracy: 0.7744\n",
      "Epoch 12/15\n",
      "60000/60000 [==============================] - 60s 1ms/sample - loss: 0.0331 - accuracy: 0.7794\n",
      "Epoch 13/15\n",
      "60000/60000 [==============================] - 60s 996us/sample - loss: 0.0324 - accuracy: 0.7835\n",
      "Epoch 14/15\n",
      "60000/60000 [==============================] - 60s 1ms/sample - loss: 0.0314 - accuracy: 0.7878\n",
      "Epoch 15/15\n",
      "60000/60000 [==============================] - 60s 1ms/sample - loss: 0.0290 - accuracy: 0.7922\n"
     ]
    },
    {
     "data": {
      "text/plain": [
       "<tensorflow.python.keras.callbacks.History at 0x1ff622c22b0>"
      ]
     },
     "execution_count": 22,
     "metadata": {},
     "output_type": "execute_result"
    }
   ],
   "source": [
    "model.fit(x_train, y_train, batch_size=100, epochs=15)"
   ]
  },
  {
   "cell_type": "markdown",
   "metadata": {},
   "source": [
    "### 改變訓練參數 BATCH_SIZE改為120 EPOCHS改為15"
   ]
  },
  {
   "cell_type": "code",
   "execution_count": 25,
   "metadata": {},
   "outputs": [
    {
     "name": "stdout",
     "output_type": "stream",
     "text": [
      "Train on 60000 samples\n",
      "Epoch 1/15\n",
      "60000/60000 [==============================] - 59s 989us/sample - loss: 0.0277 - accuracy: 0.8055\n",
      "Epoch 2/15\n",
      "60000/60000 [==============================] - 59s 988us/sample - loss: 0.0269 - accuracy: 0.8135\n",
      "Epoch 3/15\n",
      "60000/60000 [==============================] - 59s 988us/sample - loss: 0.0262 - accuracy: 0.8177\n",
      "Epoch 4/15\n",
      "60000/60000 [==============================] - 59s 989us/sample - loss: 0.0256 - accuracy: 0.8225\n",
      "Epoch 5/15\n",
      "60000/60000 [==============================] - 59s 991us/sample - loss: 0.0250 - accuracy: 0.8270\n",
      "Epoch 6/15\n",
      "60000/60000 [==============================] - 60s 992us/sample - loss: 0.0246 - accuracy: 0.8294\n",
      "Epoch 7/15\n",
      "60000/60000 [==============================] - 58s 973us/sample - loss: 0.0240 - accuracy: 0.8351\n",
      "Epoch 8/15\n",
      "60000/60000 [==============================] - 57s 953us/sample - loss: 0.0236 - accuracy: 0.8367\n",
      "Epoch 9/15\n",
      "60000/60000 [==============================] - 60s 994us/sample - loss: 0.0231 - accuracy: 0.8414\n",
      "Epoch 10/15\n",
      "60000/60000 [==============================] - 60s 995us/sample - loss: 0.0229 - accuracy: 0.8427\n",
      "Epoch 11/15\n",
      "60000/60000 [==============================] - 60s 994us/sample - loss: 0.0225 - accuracy: 0.8454\n",
      "Epoch 12/15\n",
      "60000/60000 [==============================] - 60s 993us/sample - loss: 0.0221 - accuracy: 0.8483\n",
      "Epoch 13/15\n",
      "60000/60000 [==============================] - 60s 995us/sample - loss: 0.0218 - accuracy: 0.8498\n",
      "Epoch 14/15\n",
      "60000/60000 [==============================] - 59s 983us/sample - loss: 0.0216 - accuracy: 0.8506\n",
      "Epoch 15/15\n",
      "60000/60000 [==============================] - 60s 1ms/sample - loss: 0.0213 - accuracy: 0.8540\n"
     ]
    },
    {
     "data": {
      "text/plain": [
       "<tensorflow.python.keras.callbacks.History at 0x1ff623f79e8>"
      ]
     },
     "execution_count": 25,
     "metadata": {},
     "output_type": "execute_result"
    }
   ],
   "source": [
    "model.fit(x_train, y_train, batch_size=120, epochs=15)"
   ]
  },
  {
   "cell_type": "code",
   "execution_count": 26,
   "metadata": {},
   "outputs": [],
   "source": [
    "y_predict = model.predict_classes(x_test)\n",
    "def showpredict(n):\n",
    "    print('model預測：',class_names[y_predict[n]])\n",
    "    print('答案是：',class_names[y_test[n]])\n",
    "    plt.imshow(x_test[n].reshape(28,28), cmap='Greys');"
   ]
  },
  {
   "cell_type": "code",
   "execution_count": 27,
   "metadata": {},
   "outputs": [],
   "source": [
    "from ipywidgets import interact_manual"
   ]
  },
  {
   "cell_type": "code",
   "execution_count": 28,
   "metadata": {},
   "outputs": [
    {
     "data": {
      "application/vnd.jupyter.widget-view+json": {
       "model_id": "7a8643768af44ee2a8e989447779224b",
       "version_major": 2,
       "version_minor": 0
      },
      "text/plain": [
       "interactive(children=(IntSlider(value=4999, description='n', max=9999), Button(description='Run Interact', sty…"
      ]
     },
     "metadata": {},
     "output_type": "display_data"
    },
    {
     "data": {
      "text/plain": [
       "<function __main__.showpredict(n)>"
      ]
     },
     "execution_count": 28,
     "metadata": {},
     "output_type": "execute_result"
    }
   ],
   "source": [
    "interact_manual(showpredict, n=(0,len(x_test)-1))"
   ]
  },
  {
   "cell_type": "code",
   "execution_count": 29,
   "metadata": {},
   "outputs": [
    {
     "name": "stdout",
     "output_type": "stream",
     "text": [
      "正確率為： 0.8506\n"
     ]
    }
   ],
   "source": [
    "score = model.evaluate(x_test, y_test_, verbose=0)\n",
    "print(\"正確率為：\", score[1])\n"
   ]
  },
  {
   "cell_type": "code",
   "execution_count": null,
   "metadata": {},
   "outputs": [],
   "source": []
  }
 ],
 "metadata": {
  "kernelspec": {
   "display_name": "Python 3",
   "language": "python",
   "name": "python3"
  },
  "language_info": {
   "codemirror_mode": {
    "name": "ipython",
    "version": 3
   },
   "file_extension": ".py",
   "mimetype": "text/x-python",
   "name": "python",
   "nbconvert_exporter": "python",
   "pygments_lexer": "ipython3",
   "version": "3.7.3"
  }
 },
 "nbformat": 4,
 "nbformat_minor": 2
}
