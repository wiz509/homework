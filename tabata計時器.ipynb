{
 "cells": [
  {
   "cell_type": "code",
   "execution_count": 2,
   "metadata": {},
   "outputs": [],
   "source": [
    "import time"
   ]
  },
  {
   "cell_type": "code",
   "execution_count": 9,
   "metadata": {},
   "outputs": [
    {
     "name": "stdout",
     "output_type": "stream",
     "text": [
      "要做幾個動作?\n",
      ">>\n",
      "3\n",
      "第1動作\n",
      "第2動作\n"
     ]
    }
   ],
   "source": [
    "print(\"要做幾個動作?\")\n",
    "move=input(\">>\\n\")\n",
    "for i in range(1,int(move)):\n",
    "    print((\"第%d動作\")%(i))\n",
    "    a=time.time()\n",
    "    for k in range(1,int(move)):\n",
    "        b=time.time()\n",
    "        while b-a>=30:\n",
    "            break\n",
    "    "
   ]
  },
  {
   "cell_type": "code",
   "execution_count": null,
   "metadata": {},
   "outputs": [],
   "source": []
  }
 ],
 "metadata": {
  "kernelspec": {
   "display_name": "Python 3",
   "language": "python",
   "name": "python3"
  },
  "language_info": {
   "codemirror_mode": {
    "name": "ipython",
    "version": 3
   },
   "file_extension": ".py",
   "mimetype": "text/x-python",
   "name": "python",
   "nbconvert_exporter": "python",
   "pygments_lexer": "ipython3",
   "version": "3.7.3"
  }
 },
 "nbformat": 4,
 "nbformat_minor": 2
}
